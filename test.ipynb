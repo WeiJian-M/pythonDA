{
 "cells": [
  {
   "cell_type": "code",
   "execution_count": 29,
   "metadata": {},
   "outputs": [
    {
     "data": {
      "image/png": "[encoded data removed]",
      "text/latex": [
       "$$f{\\left (x,y \\right )}$$"
      ],
      "text/plain": [
       "f(x, y)"
      ]
     },
     "execution_count": 29,
     "metadata": {},
     "output_type": "execute_result"
    }
   ],
   "source": [
    "from sympy import *\n",
    "init_printing(use_unicode=True)\n",
    "f = symbols('f', cls = Function)\n",
    "x = symbols('x')\n",
    "y = symbols('y')\n",
    "f(x, y)"
   ]
  },
  {
   "cell_type": "code",
   "execution_count": 30,
   "metadata": {},
   "outputs": [
    {
     "data": {
      "image/png": "[encoded data removed]",
      "text/latex": [
       "$$\\frac{\\partial}{\\partial x} f{\\left (x,y \\right )}$$"
      ],
      "text/plain": [
       "∂          \n",
       "──(f(x, y))\n",
       "∂x         "
      ]
     },
     "execution_count": 30,
     "metadata": {},
     "output_type": "execute_result"
    }
   ],
   "source": [
    "f(x, y).diff(x)"
   ]
  },
  {
   "cell_type": "code",
   "execution_count": 31,
   "metadata": {
    "collapsed": true
   },
   "outputs": [],
   "source": [
    "c = symbols('c', cls = Function)\n",
    "u = symbols('u', cls = Function)\n",
    "X = symbols('X', cls = Function)\n",
    "x = symbols('x')\n",
    "y = symbols('y')\n",
    "z = symbols('z')\n",
    "t = symbols('t')"
   ]
  },
  {
   "cell_type": "code",
   "execution_count": 32,
   "metadata": {},
   "outputs": [
    {
     "data": {
      "image/png": "[encoded data removed]",
      "text/latex": [
       "$$c{\\left (x,y,z,t \\right )}$$"
      ],
      "text/plain": [
       "c(x, y, z, t)"
      ]
     },
     "execution_count": 32,
     "metadata": {},
     "output_type": "execute_result"
    }
   ],
   "source": [
    "c(x, y, z, t)"
   ]
  },
  {
   "cell_type": "code",
   "execution_count": 33,
   "metadata": {},
   "outputs": [
    {
     "data": {
      "image/png": "[encoded data removed]",
      "text/latex": [
       "$$\\frac{\\partial}{\\partial t} c{\\left (x,y,z,t \\right )} = \\frac{\\partial^{2}}{\\partial x^{2}}  c{\\left (x,y,z,t \\right )} + \\frac{\\partial^{2}}{\\partial y^{2}}  c{\\left (x,y,z,t \\right )} + \\frac{\\partial^{2}}{\\partial z^{2}}  c{\\left (x,y,z,t \\right )}$$"
      ],
      "text/plain": [
       "                      2                    2                    2             \n",
       "∂                    ∂                    ∂                    ∂              \n",
       "──(c(x, y, z, t)) = ───(c(x, y, z, t)) + ───(c(x, y, z, t)) + ───(c(x, y, z, t\n",
       "∂t                    2                    2                    2             \n",
       "                    ∂x                   ∂y                   ∂z              \n",
       "\n",
       "  \n",
       "  \n",
       "))\n",
       "  \n",
       "  "
      ]
     },
     "execution_count": 33,
     "metadata": {},
     "output_type": "execute_result"
    }
   ],
   "source": [
    "diffed = Eq(c(x, y, z, t).diff(t), c(x, y, z, t).diff(x,x)+c(x, y, z, t).diff(y,y)+c(x, y, z, t).diff(z,z))\n",
    "diffed"
   ]
  },
  {
   "cell_type": "code",
   "execution_count": 35,
   "metadata": {},
   "outputs": [
    {
     "data": {
      "image/png": "[encoded data removed]",
      "text/latex": [
       "$$\\left [ \\frac{d^{2}}{d x^{2}}  X{\\left (x \\right )}, \\quad \\frac{\\partial}{\\partial t} u{\\left (y,z,t \\right )} - \\frac{\\partial^{2}}{\\partial y^{2}}  u{\\left (y,z,t \\right )} - \\frac{\\partial^{2}}{\\partial z^{2}}  u{\\left (y,z,t \\right )}\\right ]$$"
      ],
      "text/plain": [
       "⎡  2                           2                 2            ⎤\n",
       "⎢ d         ∂                 ∂                 ∂             ⎥\n",
       "⎢───(X(x)), ──(u(y, z, t)) - ───(u(y, z, t)) - ───(u(y, z, t))⎥\n",
       "⎢  2        ∂t                 2                 2            ⎥\n",
       "⎣dx                          ∂y                ∂z             ⎦"
      ]
     },
     "execution_count": 35,
     "metadata": {},
     "output_type": "execute_result"
    }
   ],
   "source": [
    "a = pde_separate_add(diffed, c(x, y, z, t), [X(x), u(y,z,t)])\n",
    "a"
   ]
  },
  {
   "cell_type": "code",
   "execution_count": null,
   "metadata": {
    "collapsed": true
   },
   "outputs": [],
   "source": [
    "b = "
   ]
  }
 ],
 "metadata": {
  "kernelspec": {
   "display_name": "Python 3",
   "language": "python",
   "name": "python3"
  },
  "language_info": {
   "codemirror_mode": {
    "name": "ipython",
    "version": 3
   },
   "file_extension": ".py",
   "mimetype": "text/x-python",
   "name": "python",
   "nbconvert_exporter": "python",
   "pygments_lexer": "ipython3",
   "version": "3.6.2"
  }
 },
 "nbformat": 4,
 "nbformat_minor": 2
}
